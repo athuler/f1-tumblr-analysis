{
 "cells": [
  {
   "cell_type": "code",
   "execution_count": null,
   "id": "c9126510",
   "metadata": {},
   "outputs": [],
   "source": [
    "from methods import *"
   ]
  },
  {
   "cell_type": "code",
   "execution_count": null,
   "id": "87a2e729",
   "metadata": {
    "scrolled": true
   },
   "outputs": [],
   "source": [
    "# Make a single request\n",
    "#getPostsToTimestamp(\"abu dhabi gp 2023\", timestamp = 1701010800, replace = False, debug = True)"
   ]
  },
  {
   "cell_type": "code",
   "execution_count": null,
   "id": "6e692cba",
   "metadata": {
    "scrolled": false
   },
   "outputs": [],
   "source": [
    "%%time\n",
    "\n",
    "# Get all posts for a race\n",
    "getPostsForGP(\"2023-austrian-grand-prix\", startAtTag = \"austrian gp 2023\", delay = 3600)"
   ]
  },
  {
   "cell_type": "code",
   "execution_count": null,
   "id": "65a79f09",
   "metadata": {
    "scrolled": true
   },
   "outputs": [],
   "source": [
    "%%time\n",
    "getPostsForSeason(debug = False, startAtRace = 13, raceLimit = None, delay = 3600, replace = False)"
   ]
  },
  {
   "cell_type": "markdown",
   "id": "9c48ea8d",
   "metadata": {},
   "source": [
    "## Post Length & Sentiment Analysis"
   ]
  },
  {
   "cell_type": "code",
   "execution_count": null,
   "id": "30ab72fc",
   "metadata": {},
   "outputs": [],
   "source": [
    "computePostLengthAndEmotionForRace(\"2023-bahrain-grand-prix\", debug = True)"
   ]
  },
  {
   "cell_type": "code",
   "execution_count": null,
   "id": "92b38b3a",
   "metadata": {},
   "outputs": [],
   "source": [
    "%%time\n",
    "\n",
    "computePostLengthAndEmotionForSeason(2023)"
   ]
  },
  {
   "cell_type": "markdown",
   "id": "2e0b7ae6",
   "metadata": {},
   "source": [
    "## Sentiment Analysis"
   ]
  },
  {
   "cell_type": "code",
   "execution_count": null,
   "id": "7d4fe047",
   "metadata": {},
   "outputs": [],
   "source": [
    "# Get emotion\n",
    "emotion = get_emotion(\"congrats\")\n",
    "print(\"Emotion Score\", emotion)\n"
   ]
  },
  {
   "cell_type": "markdown",
   "id": "fa21c1ab",
   "metadata": {},
   "source": [
    "## Load Race JSON File"
   ]
  },
  {
   "cell_type": "code",
   "execution_count": null,
   "id": "a1092121",
   "metadata": {},
   "outputs": [],
   "source": [
    "loadSeasonFromWeb(debug = False)"
   ]
  },
  {
   "cell_type": "markdown",
   "id": "6715a4cb",
   "metadata": {},
   "source": [
    "## Analysis"
   ]
  },
  {
   "cell_type": "code",
   "execution_count": null,
   "id": "ca19ba24",
   "metadata": {},
   "outputs": [],
   "source": [
    "from scipy.stats import ttest_ind\n",
    "import matplotlib.pyplot as plt \n",
    "import numpy\n",
    "\n",
    "\n",
    "\n",
    "def ttestLengthAndEmotion(BUFFER_BEFORE_CRASH, BUFFER_AFTER_CRASH, debug = False):\n",
    "    \n",
    "    numSignificant = 0\n",
    "\n",
    "    # Load Race Data\n",
    "    with open('race_data.json', encoding='utf-8') as f:\n",
    "        raceData = json.load(f)\n",
    "\n",
    "    # All Red Flags For The 2023 Season\n",
    "    redFlags2023 = {\n",
    "        \"2023-australian-grand-prix\": [15, 60+40, 60+60+1],\n",
    "        \"2023-dutch-grand-prix\": [60+33],\n",
    "        \"2023-mexican-grand-prix\": [50],\n",
    "        \"2023-brazilian-grand-prix\": [5]\n",
    "    }\n",
    "    \n",
    "    overallPostLengths = {\n",
    "        \"crash\": [],\n",
    "        \"no crash\": []\n",
    "    }\n",
    "    overallEmotionScore = {\n",
    "        \"crash\": [],\n",
    "        \"no crash\": []\n",
    "    }\n",
    "\n",
    "    for raceWithIncident, timestamps in redFlags2023.items():\n",
    "        \n",
    "        if debug:\n",
    "            print(raceWithIncident)\n",
    "\n",
    "        # Convert to UTC Timestamp\n",
    "        # And Add A 1-min Buffer Beforehand\n",
    "        timestamps = list(map(lambda x: (x*60)+raceData[raceWithIncident][\"timestamps\"][\"gp_start\"]-BUFFER_BEFORE_CRASH, timestamps))\n",
    "\n",
    "        # Prepare Dictionaries And Lists\n",
    "        postLengths = {\n",
    "            \"crash\": [],\n",
    "            \"no crash\": []\n",
    "        }\n",
    "        emotionScore = {\n",
    "            \"crash\": [],\n",
    "            \"no crash\": []\n",
    "        }\n",
    "\n",
    "        # Get Data\n",
    "        c.execute(\n",
    "            'SELECT * FROM \"' + raceData[raceWithIncident][\"table_name\"] + '\" WHERE timestamp > ? AND timestamp < ?',\n",
    "            (raceData[raceWithIncident][\"timestamps\"][\"gp_start\"], raceData[raceWithIncident][\"timestamps\"][\"gp_end\"])\n",
    "        )\n",
    "        data = c.fetchall()\n",
    "        if debug:\n",
    "            print(f\"{len(data)} posts during race\")\n",
    "\n",
    "        for postNum, row in enumerate(data):\n",
    "\n",
    "            # Check if Timestamp Near A Crash\n",
    "            postTime = row[1]\n",
    "            postAfterCrash = False\n",
    "\n",
    "            for crashTime in timestamps:\n",
    "                if(postTime > crashTime & postTime-crashTime < BUFFER_AFTER_CRASH):\n",
    "                    postAfterCrash = True\n",
    "\n",
    "            if(postAfterCrash):\n",
    "                category = \"crash\"\n",
    "            else:\n",
    "                category = \"no crash\"\n",
    "\n",
    "            postLengths[category].append(row[6])\n",
    "            overallPostLengths[category].append(row[6])\n",
    "            emotionScore[category].append(row[7])\n",
    "            overallEmotionScore[category].append(row[7])\n",
    "\n",
    "        if debug:\n",
    "            print(\"Post Length: \" + str(len(postLengths[\"crash\"])) + \" crash, \" + str(len(postLengths[\"no crash\"])) + \" no crash\")\n",
    "            print(\"Emotion Score: \" + str(len(emotionScore[\"crash\"])) + \" crash, \" + str(len(emotionScore[\"no crash\"])) + \" no crash\")\n",
    "            print(\"Mean Post Lengths:\")\n",
    "            print(f\"\\t- Crash: {round(numpy.array(postLengths['crash']).mean(),2)}\")\n",
    "            print(f\"\\t- No Crash: {round(numpy.array(postLengths['no crash']).mean(),2)}\")\n",
    "            print(\"Mean Emotion Score:\")\n",
    "            print(f\"\\t- Crash: {round(numpy.array(emotionScore['crash']).mean(),2)}\")\n",
    "            print(f\"\\t- No Crash: {round(numpy.array(emotionScore['no crash']).mean(),2)}\")\n",
    "        \n",
    "\n",
    "        # Perform two-sample t-test\n",
    "        if debug:\n",
    "            print(\"Testing for Post Length\")\n",
    "        t_statistic, p_value = ttest_ind(postLengths[\"crash\"], postLengths[\"no crash\"])\n",
    "        if(p_value <= 0.05):\n",
    "            numSignificant+=1\n",
    "\n",
    "        # Output the results\n",
    "        if debug:\n",
    "            print(f\"\\tt-statistic: {round(t_statistic,2)}\")\n",
    "            print(f\"\\tP-value: {round(p_value,3)}\")\n",
    "\n",
    "        # Perform two-sample t-test\n",
    "        if debug:\n",
    "            print(\"Testing for Emotion Score\")\n",
    "        t_statistic, p_value = ttest_ind(emotionScore[\"crash\"], emotionScore[\"no crash\"])\n",
    "        if(p_value <= 0.05):\n",
    "            numSignificant+=1\n",
    "\n",
    "        # Output the results\n",
    "        if debug:\n",
    "            print(f\"\\tt-statistic: {round(t_statistic,2)}\")\n",
    "            print(f\"\\tP-value: {round(p_value,3)}\")\n",
    "\n",
    "        # Perform two-sample t-test\n",
    "        \"\"\"if debug:\n",
    "            print(\"Testing for Absolute Emotion Score\")\n",
    "        t_statistic, p_value = ttest_ind(\n",
    "                            [abs(ele) for ele in emotionScore[\"crash\"]],\n",
    "                            [abs(ele) for ele in emotionScore[\"no crash\"]]\n",
    "        )\n",
    "        if(p_value <= 0.05):\n",
    "            numSignificant+=1\n",
    "\n",
    "        # Output the results\n",
    "        if debug:\n",
    "            print(f\"\\tt-statistic: {round(t_statistic,2)}\")\n",
    "            print(f\"\\tP-value: {round(p_value,3)}\")\n",
    "            print(\"\")\"\"\"\n",
    "    \n",
    "    if debug:\n",
    "        print(\"=============\")\n",
    "        print(\"OVERALL STATS\")\n",
    "        print(\"=============\")\n",
    "        \n",
    "        print(\"Mean Post Lengths:\")\n",
    "        print(f\"\\t- Crash: {round(numpy.array(overallPostLengths['crash']).mean(),2)}\")\n",
    "        print(f\"\\t- No Crash: {round(numpy.array(overallPostLengths['no crash']).mean(),2)}\")\n",
    "        print(\"Mean Emotion Score:\")\n",
    "        print(f\"\\t- Crash: {round(numpy.array(overallEmotionScore['crash']).mean(),2)}\")\n",
    "        print(f\"\\t- No Crash: {round(numpy.array(overallEmotionScore['no crash']).mean(),2)}\")\n",
    "        print(\"Mean Absolute Emotion Score:\")\n",
    "        print(f\"\\t- Crash: {round(numpy.array([abs(ele) for ele in overallEmotionScore['crash']]).mean(),2)}\")\n",
    "        print(f\"\\t- No Crash: {round(numpy.array([abs(ele) for ele in overallEmotionScore['no crash']]).mean(),2)}\")\n",
    "    \n",
    "    # Perform two-sample t-test\n",
    "    if debug:\n",
    "        print(\"Testing for Post Length\")\n",
    "    t_statistic, p_value = ttest_ind(overallPostLengths[\"crash\"], overallPostLengths[\"no crash\"])\n",
    "    postLengthSignificance = p_value\n",
    "    if(p_value <= 0.05):\n",
    "        numSignificant+=1\n",
    "\n",
    "    # Output the results\n",
    "    if debug:\n",
    "        print(f\"\\tt-statistic: {round(t_statistic,2)}\")\n",
    "        print(f\"\\tP-value: {round(p_value,3)}\")\n",
    "\n",
    "    # Perform two-sample t-test\n",
    "    if debug:\n",
    "        print(\"Testing for Emotion Score\")\n",
    "    t_statistic, p_value = ttest_ind(overallEmotionScore[\"crash\"], overallEmotionScore[\"no crash\"])\n",
    "    emotionSignificance = p_value\n",
    "    if(p_value <= 0.05):\n",
    "        numSignificant+=1\n",
    "\n",
    "    # Output the results\n",
    "    if debug:\n",
    "        print(f\"\\tt-statistic: {round(t_statistic,2)}\")\n",
    "        print(f\"\\tP-value: {round(p_value,3)}\")\n",
    "        \n",
    "    # Perform two-sample t-test\n",
    "    if debug:\n",
    "        print(\"Testing for AbsoluteEmotion Score\")\n",
    "    t_statistic, p_value = ttest_ind(\n",
    "                                [abs(ele) for ele in overallEmotionScore[\"crash\"]],\n",
    "                                [abs(ele) for ele in overallEmotionScore[\"no crash\"]]\n",
    "    )\n",
    "    #emotionSignificance = p_value\n",
    "    \n",
    "    if(p_value <= 0.05):\n",
    "        numSignificant+=1\n",
    "\n",
    "    # Output the results\n",
    "    if debug:\n",
    "        print(f\"\\tt-statistic: {round(t_statistic,2)}\")\n",
    "        print(f\"\\tP-value: {round(p_value,3)}\")\n",
    "    \n",
    "    #return numSignificant\n",
    "    #return emotionSignificance\n",
    "    return postLengthSignificance\n"
   ]
  },
  {
   "cell_type": "code",
   "execution_count": null,
   "id": "9864a4a0",
   "metadata": {},
   "outputs": [],
   "source": [
    "ttestLengthAndEmotion(0, 100, debug = True)"
   ]
  },
  {
   "cell_type": "code",
   "execution_count": null,
   "id": "c9241692",
   "metadata": {},
   "outputs": [],
   "source": [
    "# Chart P-Value Over Time Post-Crash\n",
    "\n",
    "buffer_list = list(range(0,60*7,5))\n",
    "significant_list = []\n",
    "\n",
    "for currentBuffer in buffer_list:\n",
    "    significant_list.append(ttestLengthAndEmotion(0, currentBuffer))\n",
    "    print(f\"{currentBuffer}/{max(buffer_list)}\",end=\"\\r\")\n",
    "    \n",
    "plt.plot(buffer_list, significant_list)\n",
    "#plt.title(\"P-Value of Absolute Value of the Emotion Score\")\n",
    "plt.title(\"P-Value of Post Length\")\n",
    "plt.xlabel(\"Time After Crash (seconds)\")\n",
    "plt.show()"
   ]
  }
 ],
 "metadata": {
  "kernelspec": {
   "display_name": "Python 3 (ipykernel)",
   "language": "python",
   "name": "python3"
  },
  "language_info": {
   "codemirror_mode": {
    "name": "ipython",
    "version": 3
   },
   "file_extension": ".py",
   "mimetype": "text/x-python",
   "name": "python",
   "nbconvert_exporter": "python",
   "pygments_lexer": "ipython3",
   "version": "3.9.4"
  }
 },
 "nbformat": 4,
 "nbformat_minor": 5
}
