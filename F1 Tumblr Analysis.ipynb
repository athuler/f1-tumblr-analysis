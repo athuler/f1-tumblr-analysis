{
 "cells": [
  {
   "cell_type": "code",
   "execution_count": null,
   "id": "c9126510",
   "metadata": {},
   "outputs": [],
   "source": [
    "from methods import *"
   ]
  },
  {
   "cell_type": "code",
   "execution_count": null,
   "id": "87a2e729",
   "metadata": {
    "scrolled": false
   },
   "outputs": [],
   "source": [
    "# Make a single request\n",
    "#getPostsToTimestamp(\"abu dhabi gp 2023\", timestamp = 1701010800, replace = True, debug = True)"
   ]
  },
  {
   "cell_type": "code",
   "execution_count": null,
   "id": "6e692cba",
   "metadata": {
    "scrolled": false
   },
   "outputs": [],
   "source": [
    "%%time\n",
    "\n",
    "# Get all posts for a race\n",
    "getPostsForGP(\"Abu Dhabi Grand Prix 2023\", \"race\")"
   ]
  }
 ],
 "metadata": {
  "kernelspec": {
   "display_name": "Python 3 (ipykernel)",
   "language": "python",
   "name": "python3"
  },
  "language_info": {
   "codemirror_mode": {
    "name": "ipython",
    "version": 3
   },
   "file_extension": ".py",
   "mimetype": "text/x-python",
   "name": "python",
   "nbconvert_exporter": "python",
   "pygments_lexer": "ipython3",
   "version": "3.9.4"
  }
 },
 "nbformat": 4,
 "nbformat_minor": 5
}
