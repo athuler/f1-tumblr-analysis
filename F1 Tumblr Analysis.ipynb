{
 "cells": [
  {
   "cell_type": "code",
   "execution_count": 1,
   "id": "c9126510",
   "metadata": {},
   "outputs": [],
   "source": [
    "import sqlite3\n",
    "import requests\n",
    "import json\n",
    "import datetime\n",
    "from urllib.parse import urlparse\n",
    "from urllib.parse import parse_qs\n",
    "from time import sleep\n",
    "import matplotlib.pyplot as plt\n",
    "import matplotlib.dates as md\n",
    "import numpy as np\n",
    "from scipy.signal import find_peaks_cwt\n",
    "\n",
    "\n",
    "from methods import *"
   ]
  },
  {
   "cell_type": "code",
   "execution_count": 2,
   "id": "87a2e729",
   "metadata": {
    "scrolled": false
   },
   "outputs": [
    {
     "name": "stdout",
     "output_type": "stream",
     "text": [
      "1701010797 -> 1701010612 ( 3.1 min | 6.5 posts/min)\n",
      "\n",
      "1701010797 \t esteben-hur \t\n",
      "1701010796 \t eirianerisdar \t\n",
      "1701010788 \t brklynlewis \t\n",
      "1701010770 \t sebvettelsv5 \t\n",
      "1701010762 \t valyrfia \t\n",
      "1701010759 \t shippingcannons \t\n",
      "1701010753 \t riotinyellow \t\n",
      "1701010743 \t leclercloml \t\n",
      "1701010727 \t meep-meep-richie \t\n",
      "1701010716 \t garykingz \t\n",
      "1701010708 \t vettely \t\n",
      "1701010677 \t russellius \t\n",
      "1701010667 \t isadora16aslani \t\n",
      "1701010646 \t ro55ocorsa \t\n",
      "1701010629 \t umgeorge \t\n",
      "1701010629 \t eightyones \t\n",
      "1701010625 \t multiseb21 \t\n",
      "1701010624 \t elenazamos \t\n",
      "1701010621 \t rizz07 \t\n",
      "1701010612 \t vroomvroomsposts \t\n"
     ]
    },
    {
     "data": {
      "text/plain": [
       "1701010612"
      ]
     },
     "execution_count": 2,
     "metadata": {},
     "output_type": "execute_result"
    }
   ],
   "source": [
    "getPostsToTimestamp(\"abu dhabi gp 2023\", timestamp = 1701010800, replace = False, debug = True)"
   ]
  },
  {
   "cell_type": "code",
   "execution_count": 33,
   "id": "6e692cba",
   "metadata": {
    "scrolled": true
   },
   "outputs": [
    {
     "name": "stdout",
     "output_type": "stream",
     "text": [
      "Current tag: abu dhabi gp 2023\n",
      "Current tag: formula 1)\n",
      "Current tag: f1 posts )\n",
      "Current tag: formula1 )\n",
      "2489.94 % ( 2230 posts )\r"
     ]
    }
   ],
   "source": [
    "fetchPostsForRace(\"abu dhabi gp 2023\")"
   ]
  },
  {
   "cell_type": "code",
   "execution_count": 42,
   "id": "cc87208e",
   "metadata": {},
   "outputs": [
    {
     "data": {
      "image/png": "[encoded data removed]",
      "text/plain": [
       "<Figure size 720x432 with 1 Axes>"
      ]
     },
     "metadata": {
      "needs_background": "light"
     },
     "output_type": "display_data"
    },
    {
     "name": "stdout",
     "output_type": "stream",
     "text": [
      "(array([11, 13,  7, 17, 14, 24, 12, 12, 13, 13, 11, 12, 10, 11, 10, 14, 23,\n",
      "       16, 11, 14, 14, 11,  7, 12, 13, 18, 31, 20, 20, 19, 34, 56, 33, 25,\n",
      "       12, 22, 14, 23, 13, 12, 16,  9, 13,  8, 19, 14, 14, 13,  5, 12,  8,\n",
      "        3,  4, 12,  9,  7,  6, 11, 13, 10, 12, 12, 20, 20, 16, 15, 30, 27,\n",
      "       27, 19, 22, 15, 10, 17, 15, 28, 17, 23, 21, 16, 23, 24, 22, 19, 14,\n",
      "       12, 20, 15, 28, 28, 43, 46, 44, 42, 47, 37, 35, 25, 31, 29, 30, 21,\n",
      "       24, 19, 22, 15, 19, 16, 22, 19, 15, 18, 13, 14, 19, 10, 18, 13, 12,\n",
      "       14], dtype=int64), array([1701003600, 1701003660, 1701003720, 1701003780, 1701003840,\n",
      "       1701003900, 1701003960, 1701004020, 1701004080, 1701004140,\n",
      "       1701004200, 1701004260, 1701004320, 1701004380, 1701004440,\n",
      "       1701004500, 1701004560, 1701004620, 1701004680, 1701004740,\n",
      "       1701004800, 1701004860, 1701004920, 1701004980, 1701005040,\n",
      "       1701005100, 1701005160, 1701005220, 1701005280, 1701005340,\n",
      "       1701005400, 1701005460, 1701005520, 1701005580, 1701005640,\n",
      "       1701005700, 1701005760, 1701005820, 1701005880, 1701005940,\n",
      "       1701006000, 1701006060, 1701006120, 1701006180, 1701006240,\n",
      "       1701006300, 1701006360, 1701006420, 1701006480, 1701006540,\n",
      "       1701006600, 1701006660, 1701006720, 1701006780, 1701006840,\n",
      "       1701006900, 1701006960, 1701007020, 1701007080, 1701007140,\n",
      "       1701007200, 1701007260, 1701007320, 1701007380, 1701007440,\n",
      "       1701007500, 1701007560, 1701007620, 1701007680, 1701007740,\n",
      "       1701007800, 1701007860, 1701007920, 1701007980, 1701008040,\n",
      "       1701008100, 1701008160, 1701008220, 1701008280, 1701008340,\n",
      "       1701008400, 1701008460, 1701008520, 1701008580, 1701008640,\n",
      "       1701008700, 1701008760, 1701008820, 1701008880, 1701008940,\n",
      "       1701009000, 1701009060, 1701009120, 1701009180, 1701009240,\n",
      "       1701009300, 1701009360, 1701009420, 1701009480, 1701009540,\n",
      "       1701009600, 1701009660, 1701009720, 1701009780, 1701009840,\n",
      "       1701009900, 1701009960, 1701010020, 1701010080, 1701010140,\n",
      "       1701010200, 1701010260, 1701010320, 1701010380, 1701010440,\n",
      "       1701010500, 1701010560, 1701010620, 1701010680, 1701010740,\n",
      "       1701010800]))\n"
     ]
    }
   ],
   "source": [
    "def raceSummary(race, endTime = 1701010800, startTime = 1701003600, resolution = 5):\n",
    "    \n",
    "    # Get Data\n",
    "    c.execute('select * from \"' + race + '\" WHERE \"timestamp\" >= ? AND \"timestamp\" <= ?',(startTime, endTime))\n",
    "    data = c.fetchall()\n",
    "    timestamps = []\n",
    "    for row in data:\n",
    "        timestamps.append(row[1])\n",
    "   \n",
    "    \n",
    "    \n",
    "    # Plot Time Chart\n",
    "    dates=[datetime.datetime.fromtimestamp(ts) for ts in timestamps]\n",
    "    datenums=md.date2num(dates)\n",
    "    xfmt = md.DateFormatter('%H:%M')\n",
    "    plt.figure(figsize=(10,6))\n",
    "    plt.title(race.title() + \" (\" + str(resolution) +\" min resolution)\")\n",
    "    plt.ylabel(\"# of Tumblr Posts\")\n",
    "    ax=plt.gca()\n",
    "    ax.xaxis.set_major_formatter(xfmt)\n",
    "    plt.hist(datenums, bins=int(120/resolution))\n",
    "    plt.show()\n",
    "    \n",
    "    \n",
    "    # Per-minute Frequency\n",
    "    wordFreqMinute = np.histogram(\n",
    "        timestamps,\n",
    "        bins=range(\n",
    "            min(timestamps)-min(timestamps)%60, # Get start of the minute\n",
    "            max(timestamps) + 60,\n",
    "            60\n",
    "        )\n",
    "    )\n",
    "    print(wordFreqMinute)\n",
    "    \n",
    "    \n",
    "raceSummary(\"abu dhabi gp 2023\")"
   ]
  },
  {
   "cell_type": "code",
   "execution_count": null,
   "id": "a9b6ef5c",
   "metadata": {},
   "outputs": [],
   "source": []
  }
 ],
 "metadata": {
  "kernelspec": {
   "display_name": "Python 3 (ipykernel)",
   "language": "python",
   "name": "python3"
  },
  "language_info": {
   "codemirror_mode": {
    "name": "ipython",
    "version": 3
   },
   "file_extension": ".py",
   "mimetype": "text/x-python",
   "name": "python",
   "nbconvert_exporter": "python",
   "pygments_lexer": "ipython3",
   "version": "3.9.4"
  }
 },
 "nbformat": 4,
 "nbformat_minor": 5
}
