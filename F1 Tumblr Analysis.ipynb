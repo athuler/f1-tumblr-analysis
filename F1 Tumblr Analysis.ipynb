{
 "cells": [
  {
   "cell_type": "code",
   "execution_count": null,
   "id": "c9126510",
   "metadata": {},
   "outputs": [],
   "source": [
    "from methods import *"
   ]
  },
  {
   "cell_type": "code",
   "execution_count": null,
   "id": "87a2e729",
   "metadata": {
    "scrolled": true
   },
   "outputs": [],
   "source": [
    "# Make a single request\n",
    "#getPostsToTimestamp(\"abu dhabi gp 2023\", timestamp = 1701010800, replace = False, debug = True)"
   ]
  },
  {
   "cell_type": "code",
   "execution_count": null,
   "id": "6e692cba",
   "metadata": {
    "scrolled": false
   },
   "outputs": [],
   "source": [
    "%%time\n",
    "\n",
    "# Get all posts for a race\n",
    "getPostsForGP(\"2023-austrian-grand-prix\", startAtTag = \"austrian gp 2023\", delay = 3600, replace = False)"
   ]
  },
  {
   "cell_type": "code",
   "execution_count": null,
   "id": "65a79f09",
   "metadata": {
    "scrolled": true
   },
   "outputs": [],
   "source": [
    "%%time\n",
    "getPostsForSeason(debug = False, startAtRace = 13, raceLimit = 1, delay = 3600, replace = False)"
   ]
  },
  {
   "cell_type": "markdown",
   "id": "9c48ea8d",
   "metadata": {},
   "source": [
    "## Post Length & Sentiment Analysis"
   ]
  },
  {
   "cell_type": "code",
   "execution_count": null,
   "id": "30ab72fc",
   "metadata": {},
   "outputs": [],
   "source": [
    "%%time\n",
    "\n",
    "computePostLengthAndEmotionForRace(\"2023-bahrain-grand-prix\", debug = True)"
   ]
  },
  {
   "cell_type": "code",
   "execution_count": null,
   "id": "92b38b3a",
   "metadata": {},
   "outputs": [],
   "source": [
    "%%time\n",
    "\n",
    "computePostLengthAndEmotionForSeason(2023)"
   ]
  },
  {
   "cell_type": "markdown",
   "id": "2e0b7ae6",
   "metadata": {},
   "source": [
    "## Sentiment Analysis"
   ]
  },
  {
   "cell_type": "code",
   "execution_count": null,
   "id": "7d4fe047",
   "metadata": {},
   "outputs": [],
   "source": [
    "# Get emotion\n",
    "emotion = get_emotion(\"congrats\")\n",
    "print(\"Emotion Score\", emotion)\n"
   ]
  },
  {
   "cell_type": "markdown",
   "id": "fa21c1ab",
   "metadata": {},
   "source": [
    "## Load Race JSON File"
   ]
  },
  {
   "cell_type": "code",
   "execution_count": null,
   "id": "a1092121",
   "metadata": {},
   "outputs": [],
   "source": [
    "loadSeasonFromWeb(debug = False)"
   ]
  },
  {
   "cell_type": "markdown",
   "id": "6715a4cb",
   "metadata": {},
   "source": [
    "## Analysis"
   ]
  },
  {
   "cell_type": "code",
   "execution_count": null,
   "id": "ca19ba24",
   "metadata": {},
   "outputs": [],
   "source": [
    "from dataAnalysis import *"
   ]
  },
  {
   "cell_type": "code",
   "execution_count": null,
   "id": "9864a4a0",
   "metadata": {},
   "outputs": [],
   "source": [
    "ttestLengthAndEmotion(0, 23, returning = \"emotion\", debug = True)"
   ]
  },
  {
   "cell_type": "code",
   "execution_count": null,
   "id": "6bc44b2c",
   "metadata": {},
   "outputs": [],
   "source": [
    "ttestLengthAndEmotion(0, 100, returning = \"length\", debug = True)"
   ]
  },
  {
   "cell_type": "code",
   "execution_count": null,
   "id": "027224f9",
   "metadata": {},
   "outputs": [],
   "source": [
    "graphPValuePostCrash(timeAfterCrash = 60 * 1, returning = \"emotion\", caption = \"Figure 2: P-Value of Absolute Emotion Score\", step = 1)"
   ]
  },
  {
   "cell_type": "code",
   "execution_count": null,
   "id": "a127e193",
   "metadata": {},
   "outputs": [],
   "source": [
    "graphPValuePostCrash(timeAfterCrash = 60*6, returning = \"length\", caption = \"Figure 3: P-Value of Post Length\", step = 5)"
   ]
  }
 ],
 "metadata": {
  "kernelspec": {
   "display_name": "Python 3 (ipykernel)",
   "language": "python",
   "name": "python3"
  },
  "language_info": {
   "codemirror_mode": {
    "name": "ipython",
    "version": 3
   },
   "file_extension": ".py",
   "mimetype": "text/x-python",
   "name": "python",
   "nbconvert_exporter": "python",
   "pygments_lexer": "ipython3",
   "version": "3.9.4"
  }
 },
 "nbformat": 4,
 "nbformat_minor": 5
}
